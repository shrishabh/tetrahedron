{
 "cells": [
  {
   "cell_type": "code",
   "execution_count": 232,
   "metadata": {
    "collapsed": false
   },
   "outputs": [],
   "source": [
    "import SUGen as su\n",
    "import numpy as np"
   ]
  },
  {
   "cell_type": "code",
   "execution_count": 379,
   "metadata": {
    "collapsed": false
   },
   "outputs": [],
   "source": [
    "import PhysConst as pc\n",
    "from scipy.io import savemat\n",
    "from scipy.interpolate import interp1d"
   ]
  },
  {
   "cell_type": "code",
   "execution_count": 234,
   "metadata": {
    "collapsed": false
   },
   "outputs": [
    {
     "name": "stdout",
     "output_type": "stream",
     "text": [
      "4\n"
     ]
    }
   ],
   "source": [
    "el = pc.PhysicsConstants()\n",
    "el.numneu = 4\n",
    "el.numneumax\n",
    "print el.numneu"
   ]
  },
  {
   "cell_type": "code",
   "execution_count": 235,
   "metadata": {
    "collapsed": false
   },
   "outputs": [],
   "source": [
    "U = su.SUGen(el)"
   ]
  },
  {
   "cell_type": "code",
   "execution_count": 236,
   "metadata": {
    "collapsed": false
   },
   "outputs": [
    {
     "data": {
      "text/plain": [
       "SUGen.SUGen"
      ]
     },
     "execution_count": 236,
     "metadata": {},
     "output_type": "execute_result"
    }
   ],
   "source": [
    "type(U)"
   ]
  },
  {
   "cell_type": "code",
   "execution_count": 237,
   "metadata": {
    "collapsed": true
   },
   "outputs": [],
   "source": [
    "a = U.matrix_gen()"
   ]
  },
  {
   "cell_type": "code",
   "execution_count": 238,
   "metadata": {
    "collapsed": false
   },
   "outputs": [
    {
     "name": "stdout",
     "output_type": "stream",
     "text": [
      "[[ 1.+0.j  0.+0.j  0.+0.j  0.+0.j]\n",
      " [ 0.+0.j  1.+0.j  0.+0.j  0.+0.j]\n",
      " [ 0.+0.j  0.+0.j  1.+0.j  0.+0.j]\n",
      " [ 0.+0.j  0.+0.j  0.+0.j  1.+0.j]]\n"
     ]
    }
   ],
   "source": [
    "print U.phase_gen(2,3)"
   ]
  },
  {
   "cell_type": "code",
   "execution_count": null,
   "metadata": {
    "collapsed": true
   },
   "outputs": [],
   "source": []
  },
  {
   "cell_type": "code",
   "execution_count": 239,
   "metadata": {
    "collapsed": false
   },
   "outputs": [
    {
     "data": {
      "text/plain": [
       "0.730865473974113"
      ]
     },
     "execution_count": 239,
     "metadata": {},
     "output_type": "execute_result"
    }
   ],
   "source": [
    "U.sample_phase()"
   ]
  },
  {
   "cell_type": "code",
   "execution_count": 252,
   "metadata": {
    "collapsed": false
   },
   "outputs": [
    {
     "name": "stdout",
     "output_type": "stream",
     "text": [
      "[[-0.43068287-0.28943282j  0.44598609+0.57192043j -0.37904617+0.2007616j\n",
      "   0.13729009-0.04375564j]\n",
      " [ 0.02181808-0.41464419j  0.38361015-0.45339789j -0.07498233-0.54250151j\n",
      "   0.41792990-0.01649692j]\n",
      " [-0.39993310+0.47802461j  0.04055660+0.08602876j -0.18322684-0.59868968j\n",
      "  -0.24341361+0.38890694j]\n",
      " [ 0.04799601+0.40936225j -0.01414862+0.33471043j  0.17922320-0.30325927j\n",
      "   0.39205874-0.66339316j]]\n"
     ]
    }
   ],
   "source": [
    "U.sample_params()\n",
    "B = U.matrix_gen()\n",
    "print B"
   ]
  },
  {
   "cell_type": "code",
   "execution_count": 261,
   "metadata": {
    "collapsed": false
   },
   "outputs": [
    {
     "name": "stdout",
     "output_type": "stream",
     "text": [
      "[[ 0.83011894+0.j         -0.13633874-0.02185668j  0.11554090+0.08792245j]\n",
      " [-0.13633874+0.02185668j  0.88776874+0.j          0.10403980+0.05569717j]\n",
      " [ 0.11554090-0.08792245j  0.10403980-0.05569717j  0.87591286+0.j        ]]\n"
     ]
    }
   ],
   "source": [
    "A =  B[0:3,0:3]\n",
    "print abs(np.dot((A.conjugate().T),A)"
   ]
  },
  {
   "cell_type": "code",
   "execution_count": 242,
   "metadata": {
    "collapsed": false
   },
   "outputs": [
    {
     "name": "stdout",
     "output_type": "stream",
     "text": [
      "[[ 0.40295778  0.32504171  0.04643977  0.22556074]\n",
      " [ 0.05579645  0.321307    0.26514957  0.35774698]\n",
      " [ 0.00215232  0.22511435  0.68337792  0.0893554 ]\n",
      " [ 0.53909345  0.12853693  0.00503274  0.32733688]]\n",
      "[ 0.05579645  0.321307    0.26514957  0.35774698]\n"
     ]
    }
   ],
   "source": [
    "rowe = A[1,:]*A[1,:]\n",
    "print A*A\n",
    "print rowe"
   ]
  },
  {
   "cell_type": "code",
   "execution_count": 243,
   "metadata": {
    "collapsed": false
   },
   "outputs": [
    {
     "data": {
      "text/plain": [
       "array([2, 0, 0])"
      ]
     },
     "execution_count": 243,
     "metadata": {},
     "output_type": "execute_result"
    }
   ],
   "source": [
    "init_prod = np.asarray([[1,2,0],[1,0,0],[0,1,0],[0,0,1]])\n",
    "init_prod[1,:]*[2,3,0]"
   ]
  },
  {
   "cell_type": "code",
   "execution_count": 244,
   "metadata": {
    "collapsed": false
   },
   "outputs": [
    {
     "name": "stdout",
     "output_type": "stream",
     "text": [
      "[2 3 4]\n"
     ]
    }
   ],
   "source": [
    "a = [[1,2,3],[2,3,4],[5,3,4]]\n",
    "b = np.asarray(a)\n",
    "print b[1,:]"
   ]
  },
  {
   "cell_type": "code",
   "execution_count": 245,
   "metadata": {
    "collapsed": false
   },
   "outputs": [],
   "source": [
    "b = A[2,:]"
   ]
  },
  {
   "cell_type": "code",
   "execution_count": 305,
   "metadata": {
    "collapsed": true
   },
   "outputs": [],
   "source": [
    "def fractionFromUnitaryMatrix(A):\n",
    "    init_prod = np.asarray([[1.0/3,2.0/3,0],[1,0,0],[0,1,0],[0,0,1]])\n",
    "    \n",
    "    rowe = A[0,:]*A[0,:]\n",
    "    rowmu = A[1,:]*A[1,:]\n",
    "    rowtau = A[2,:]*A[2,:]\n",
    "    mat2 = A*A\n",
    "    termE = []\n",
    "    termMu = []\n",
    "    termTau = []\n",
    "    for i in range(3):\n",
    "        termE.append(sum(mat2[i,:]*rowe))\n",
    "        termMu.append(sum(mat2[i,:]*rowmu))\n",
    "        termTau.append(sum(mat2[i,:]*rowtau))\n",
    "    \n",
    "    \n",
    "    #implementing this for testing purposes\n",
    "    final_e = []\n",
    "    final_mu = []\n",
    "    final_tau = []\n",
    "\n",
    "    for i in range(4):\n",
    "        final_e.append(sum(init_prod[i,:]*termE))\n",
    "        final_mu.append(sum(init_prod[i,:]*termMu))\n",
    "        final_tau.append(sum(init_prod[i,:]*termTau))\n",
    "    \n",
    "    \n",
    "    total = np.add(final_e, final_mu)\n",
    "    total = np.add(total, final_tau)\n",
    "    return final_e, final_mu, final_tau, total\n",
    "        \n",
    "    "
   ]
  },
  {
   "cell_type": "code",
   "execution_count": 385,
   "metadata": {
    "collapsed": true
   },
   "outputs": [],
   "source": [
    "def processFile(filename):\n",
    "    csv = np.genfromtxt(filename, delimiter=\",\")\n",
    "    csv = csv[np.argsort(csv[:, 0])]\n",
    "    #print csv.shape\n",
    "    x = csv[:,0]\n",
    "    index = []\n",
    "    for i in range(len(x) - 1):\n",
    "        if x[i] == x[i+1]:\n",
    "            index.append(i)\n",
    "    #index = index\n",
    "    for i in reversed(index):\n",
    "        csv = np.delete(csv,i,0)\n",
    "    x = csv[:,0]\n",
    "    y = csv[:,1]\n",
    "    #print x.shape, y.shape\n",
    "    f = interp1d(x,y)\n",
    "    #f = interpld(x,y)\n",
    "    return f"
   ]
  },
  {
   "cell_type": "code",
   "execution_count": 386,
   "metadata": {
    "collapsed": true
   },
   "outputs": [],
   "source": [
    "def dagger(U):\n",
    "    return np.dot((U.conjugate().T),U)"
   ]
  },
  {
   "cell_type": "code",
   "execution_count": 389,
   "metadata": {
    "collapsed": true
   },
   "outputs": [],
   "source": [
    "def checkForCuts(mat,interpolators):\n",
    "    m = mat.flatten()\n",
    "    count = 0\n",
    "    totalChi2 = 0\n",
    "    chi2Limit = 10.42\n",
    "    for i in m:\n",
    "        try:\n",
    "            temp = interpolators[count](i)\n",
    "            if temp < -1:\n",
    "                print temp, i, count\n",
    "        except ValueError:\n",
    "            return False\n",
    "        count = count + 1\n",
    "        totalChi2 = totalChi2 + temp\n",
    "    \n",
    "    if totalChi2 <= chi2Limit:\n",
    "        print totalChi2\n",
    "        return True\n",
    "    else:\n",
    "        return False\n",
    "            \n",
    "        \n",
    "    "
   ]
  },
  {
   "cell_type": "code",
   "execution_count": 390,
   "metadata": {
    "collapsed": false
   },
   "outputs": [
    {
     "name": "stdout",
     "output_type": "stream",
     "text": [
      "5.28269312463\n",
      "found one 0\n",
      "8.67652937294\n",
      "found one 1\n",
      "7.80516721687\n",
      "found one 2\n",
      "9.60871355342\n",
      "found one 3\n",
      "10.1385381572\n",
      "found one 4\n",
      "9.45567436465\n",
      "found one 5\n",
      "6.78980794481\n",
      "found one 6\n",
      "3.58616465613\n",
      "found one 7\n",
      "6.82334903084\n",
      "found one 8\n",
      "9.59068778264\n",
      "found one 9\n",
      "4.18354965938\n",
      "found one 10\n",
      "7.75364991477\n",
      "found one 11\n",
      "8.95504488654\n",
      "found one 12\n",
      "8.88373490369\n",
      "found one 13\n",
      "3.95631332205\n",
      "found one 14\n",
      "5.17423810665\n",
      "found one 15\n",
      "3.70063586412\n",
      "found one 16\n",
      "7.14943576964\n",
      "found one 17\n",
      "5.61372094883\n",
      "found one 18\n",
      "1.91197937097\n",
      "found one 19\n",
      "4.39123583036\n",
      "found one 20\n",
      "8.41151923271\n",
      "found one 21\n",
      "8.24000123482\n",
      "found one 22\n",
      "6.96438266498\n",
      "found one 23\n",
      "4.85548767776\n",
      "found one 24\n",
      "9.11551386471\n",
      "found one 25\n",
      "5.31781188387\n",
      "found one 26\n",
      "3.569531233\n",
      "found one 27\n",
      "9.41004154624\n",
      "found one 28\n",
      "6.31683522606\n",
      "found one 29\n",
      "7.95531850022\n",
      "found one 30\n",
      "6.25493203389\n",
      "found one 31\n",
      "5.21062119282\n",
      "found one 32\n",
      "7.81411500506\n",
      "found one 33\n",
      "1.91868816469\n",
      "found one 34\n",
      "10.2765790046\n",
      "found one 35\n",
      "4.73966376363\n",
      "found one 36\n",
      "4.20850458912\n",
      "found one 37\n",
      "8.4135208252\n",
      "found one 38\n",
      "6.88320742839\n",
      "found one 39\n",
      "6.97496410016\n",
      "found one 40\n",
      "7.38646041063\n",
      "found one 41\n",
      "4.41664659229\n",
      "found one 42\n",
      "6.53405446577\n",
      "found one 43\n",
      "2.57993722099\n",
      "found one 44\n",
      "10.2413783391\n",
      "found one 45\n",
      "5.52230923699\n",
      "found one 46\n",
      "8.39930910993\n",
      "found one 47\n",
      "8.79390853395\n",
      "found one 48\n",
      "4.63784975171\n",
      "found one 49\n",
      "6.48387665504\n",
      "found one 50\n",
      "9.80119172225\n",
      "found one 51\n",
      "9.96031193557\n",
      "found one 52\n",
      "5.12133037866\n",
      "found one 53\n",
      "7.2721757356\n",
      "found one 54\n",
      "8.30539754786\n",
      "found one 55\n",
      "9.75134521454\n",
      "found one 56\n",
      "10.0101526652\n",
      "found one 57\n",
      "7.42890525647\n",
      "found one 58\n",
      "10.0711778594\n",
      "found one 59\n",
      "8.2564352316\n",
      "found one 60\n",
      "3.31678446398\n",
      "found one 61\n",
      "7.17631081504\n",
      "found one 62\n",
      "10.2686858794\n",
      "found one 63\n",
      "7.79016626963\n",
      "found one 64\n",
      "7.57328490874\n",
      "found one 65\n",
      "8.48995077089\n",
      "found one 66\n",
      "3.73158866286\n",
      "found one 67\n",
      "9.58046041506\n",
      "found one 68\n",
      "9.22777802274\n",
      "found one 69\n",
      "2.8988164011\n",
      "found one 70\n",
      "6.43451088562\n",
      "found one 71\n",
      "9.63493541566\n",
      "found one 72\n",
      "6.02015856064\n",
      "found one 73\n",
      "8.67318495751\n",
      "found one 74\n",
      "9.89622927368\n",
      "found one 75\n",
      "7.76151457403\n",
      "found one 76\n",
      "4.25932997216\n",
      "found one 77\n",
      "10.0701724672\n",
      "found one 78\n",
      "8.69581473197\n",
      "found one 79\n",
      "4.78995315184\n",
      "found one 80\n",
      "2.61208537345\n",
      "found one 81\n",
      "7.52408806892\n",
      "found one 82\n",
      "8.08124876863\n",
      "found one 83\n",
      "4.42381556653\n",
      "found one 84\n",
      "7.61323279049\n",
      "found one 85\n",
      "5.88182962387\n",
      "found one 86\n",
      "1.31296759474\n",
      "found one 87\n",
      "8.24550175168\n",
      "found one 88\n",
      "3.91688591518\n",
      "found one 89\n",
      "8.71453218707\n",
      "found one 90\n",
      "9.22270794191\n",
      "found one 91\n",
      "9.33233537459\n",
      "found one 92\n",
      "7.46835540096\n",
      "found one 93\n",
      "7.94273805728\n",
      "found one 94\n",
      "8.93678762883\n",
      "found one 95\n",
      "6.54734083894\n",
      "found one 96\n",
      "7.01374640624\n",
      "found one 97\n",
      "8.12425282537\n",
      "found one 98\n",
      "2.29659193572\n",
      "found one 99\n",
      "8.31596181365\n",
      "found one 100\n"
     ]
    }
   ],
   "source": [
    "count = 0\n",
    "frac_e = []\n",
    "frac_mu = []\n",
    "frac_tau = []\n",
    "phyEl = pc.PhysicsConstants()\n",
    "phyEl.numneu = 4\n",
    "ndim = 3\n",
    "count  = 0\n",
    "U = su.SUGen(phyEl)\n",
    "non_unitarity_frac = 0.3\n",
    "interpolators = []\n",
    "interpolators.append(processFile('ue1.csv'))\n",
    "interpolators.append(processFile('ue2.csv'))\n",
    "interpolators.append(processFile('ue3.csv'))\n",
    "interpolators.append(processFile('umu1.csv'))\n",
    "interpolators.append(processFile('umu2.csv'))\n",
    "interpolators.append(processFile('umu3.csv'))\n",
    "interpolators.append(processFile('utau1.csv'))\n",
    "interpolators.append(processFile('utau2.csv'))\n",
    "interpolators.append(processFile('utau3.csv'))\n",
    "# fe2 = processFile('ue2.csv')\n",
    "# fe3 = processFile('ue3.csv')\n",
    "# fmu1 = processFile('umu1.csv')\n",
    "# fmu2 = processFile('umu2.csv')\n",
    "# fmu3 = processFile('umu3.csv')\n",
    "# ftau1 = processFile('utau1.csv')\n",
    "# ftau2 = processFile('utau2.csv')\n",
    "# ftau3 = processFile('utau3.csv')\n",
    "while True:\n",
    "    U.sample_params()\n",
    "    matrix = (U.matrix_gen())\n",
    "    mat33 = matrix[0:3,0:3]\n",
    "    \n",
    "    I = np.identity(ndim)\n",
    "    matDag = dagger(mat33)\n",
    "    delta = np.subtract(matDag,I)\n",
    "#     if count < 10:\n",
    "#         print np.absolute(delta)\n",
    "#         print mat33\n",
    "#         count = count + 1\n",
    "    if np.amax(np.absolute(delta)) <= non_unitarity_frac :\n",
    "        flag = checkForCuts(np.absolute(mat33),interpolators)\n",
    "        if flag == True:\n",
    "            print \"found one \" + str(count)\n",
    "            count = count + 1\n",
    "            efrac, mufrac, taufrac,total = fractionFromUnitaryMatrix(np.absolute(mat33))\n",
    "    #         frac_e.append(np.divide(efrac,total))\n",
    "    #         frac_mu.append(np.divide(mufrac,total))\n",
    "    #         frac_tau.append(np.divide(taufrac,total))\n",
    "            frac_e.append(efrac)\n",
    "            frac_mu.append(mufrac)\n",
    "            frac_tau.append(taufrac)\n",
    "        #print efrac, total\n",
    "    \n",
    "    if count > 100:\n",
    "        break\n",
    "\n",
    "frac_e = np.asarray(frac_e)\n",
    "frac_mu = np.asarray(frac_mu)\n",
    "frac_tau = np.asarray(frac_tau)\n",
    "#savemat('frac_30.mat',mdict={'eFraction' : frac_e, 'muFrac':frac_mu, 'tauFrac':frac_tau})\n",
    "    \n",
    "    "
   ]
  },
  {
   "cell_type": "code",
   "execution_count": 351,
   "metadata": {
    "collapsed": false
   },
   "outputs": [],
   "source": []
  },
  {
   "cell_type": "code",
   "execution_count": 361,
   "metadata": {
    "collapsed": false
   },
   "outputs": [
    {
     "name": "stdout",
     "output_type": "stream",
     "text": [
      "1\n",
      "2\n",
      "3\n",
      "4\n",
      "5\n",
      "6\n",
      "12\n",
      "34\n",
      "35\n"
     ]
    }
   ],
   "source": [
    "m = np.array([[1,2,3],[4,5,6],[12,34,35]])\n",
    "for i in m.flatten():\n",
    "    print i\n",
    "    "
   ]
  },
  {
   "cell_type": "code",
   "execution_count": 371,
   "metadata": {
    "collapsed": false
   },
   "outputs": [],
   "source": [
    "fe1 = processFile('ue1.csv')\n",
    "fe2 = processFile('ue2.csv')\n",
    "fe3 = processFile('ue3.csv')\n",
    "fmu1 = processFile('umu1.csv')\n",
    "fmu2 = processFile('umu2.csv')\n",
    "fmu3 = processFile('umu3.csv')\n",
    "ftau1 = processFile('utau1.csv')\n",
    "ftau2 = processFile('utau2.csv')\n",
    "ftau3 = processFile('utau3.csv')"
   ]
  },
  {
   "cell_type": "code",
   "execution_count": 374,
   "metadata": {
    "collapsed": false
   },
   "outputs": [
    {
     "data": {
      "text/plain": [
       "array(-0.3534561629474408)"
      ]
     },
     "execution_count": 374,
     "metadata": {},
     "output_type": "execute_result"
    }
   ],
   "source": [
    "fe1(0.802)"
   ]
  },
  {
   "cell_type": "code",
   "execution_count": 278,
   "metadata": {
    "collapsed": false
   },
   "outputs": [
    {
     "name": "stdout",
     "output_type": "stream",
     "text": [
      "[[ 0.27193407  0.80026217  0.35453318]\n",
      " [ 0.28082918  0.49068004  0.74276502]\n",
      " [ 0.79960899  0.21039744  0.2486023 ]]\n",
      "[ 2.13039025  0.74417176  0.69310925  0.59315643]\n",
      "[ 2.99952808  0.99979212  0.99986798  1.00000858]\n"
     ]
    }
   ],
   "source": [
    "phyEl = pc.PhysicsConstants()\n",
    "phyEl.numneu = 4\n",
    "U = su.SUGen(phyEl)\n",
    "U.sample_params()\n",
    "matrix = np.absolute(U.matrix_gen())\n",
    "A = matrix[0:3,0:3]\n",
    "#print matrix\n",
    "a,b,c,d = fractionFromUnitaryMatrix(A)\n",
    "print d\n",
    "B =  np.asarray([[0.8425,    0.5181 ,   0.1471],\n",
    "   [-0.4879 ,   0.6184,    0.6160],\n",
    "    [0.2282 ,  -0.5908  ,  0.7739]])\n",
    "a,b,c,d = fractionFromUnitaryMatrix(B)\n",
    "print d"
   ]
  },
  {
   "cell_type": "code",
   "execution_count": 223,
   "metadata": {
    "collapsed": false
   },
   "outputs": [
    {
     "name": "stdout",
     "output_type": "stream",
     "text": [
      "[[ 1.  0.  0.  0.]\n",
      " [ 0.  1.  0.  0.]\n",
      " [ 0.  0.  1.  0.]\n",
      " [ 0.  0.  0.  0.]]\n"
     ]
    }
   ],
   "source": [
    "a = np.identity(4)\n",
    "a[3,3] = 0\n",
    "print a"
   ]
  },
  {
   "cell_type": "code",
   "execution_count": 209,
   "metadata": {
    "collapsed": false
   },
   "outputs": [
    {
     "name": "stdout",
     "output_type": "stream",
     "text": [
      "[[ 0.  1.  2.]\n",
      " [ 3.  4.  5.]\n",
      " [ 6.  7.  8.]]\n",
      "[[ 1.  0.  0.]\n",
      " [ 0.  1.  0.]\n",
      " [ 0.  0.  1.]]\n"
     ]
    },
    {
     "data": {
      "text/plain": [
       "array([[-1.,  1.,  2.],\n",
       "       [ 3.,  3.,  5.],\n",
       "       [ 6.,  7.,  7.]])"
      ]
     },
     "execution_count": 209,
     "metadata": {},
     "output_type": "execute_result"
    }
   ],
   "source": [
    "x1 = np.arange(9.0).reshape((3, 3))\n",
    "x2 = np.identity(3)\n",
    "print x1\n",
    "print x2\n",
    "np.subtract(x1, x2)\n"
   ]
  }
 ],
 "metadata": {
  "kernelspec": {
   "display_name": "Python 2",
   "language": "python",
   "name": "python2"
  },
  "language_info": {
   "codemirror_mode": {
    "name": "ipython",
    "version": 2
   },
   "file_extension": ".py",
   "mimetype": "text/x-python",
   "name": "python",
   "nbconvert_exporter": "python",
   "pygments_lexer": "ipython2",
   "version": "2.7.13"
  }
 },
 "nbformat": 4,
 "nbformat_minor": 2
}
